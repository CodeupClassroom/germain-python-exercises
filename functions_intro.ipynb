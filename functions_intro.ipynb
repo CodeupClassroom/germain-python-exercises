{
 "cells": [
  {
   "cell_type": "markdown",
   "metadata": {},
   "source": [
    "# Fun, Fun, Functions!\n",
    "- Functions are reuseable blocks of code\n",
    "- Functions fill the need of _verbs_ and _verb phrases_ because they DO things or transform values\n",
    "- We have many built-in functions \n",
    "- We can also create user defined functions"
   ]
  },
  {
   "cell_type": "code",
   "execution_count": 1,
   "metadata": {},
   "outputs": [
    {
     "data": {
      "text/plain": [
       "3"
      ]
     },
     "execution_count": 1,
     "metadata": {},
     "output_type": "execute_result"
    }
   ],
   "source": [
    "# Introducing built-in Python functions\n",
    "max([1, 2, 3])"
   ]
  },
  {
   "cell_type": "code",
   "execution_count": 2,
   "metadata": {},
   "outputs": [
    {
     "data": {
      "text/plain": [
       "1"
      ]
     },
     "execution_count": 2,
     "metadata": {},
     "output_type": "execute_result"
    }
   ],
   "source": [
    "min([1, 2, 3])"
   ]
  },
  {
   "cell_type": "code",
   "execution_count": 3,
   "metadata": {},
   "outputs": [
    {
     "data": {
      "text/plain": [
       "6"
      ]
     },
     "execution_count": 3,
     "metadata": {},
     "output_type": "execute_result"
    }
   ],
   "source": [
    "sum([1, 2, 3])"
   ]
  },
  {
   "cell_type": "code",
   "execution_count": 4,
   "metadata": {},
   "outputs": [
    {
     "data": {
      "text/plain": [
       "5"
      ]
     },
     "execution_count": 4,
     "metadata": {},
     "output_type": "execute_result"
    }
   ],
   "source": [
    "len(\"Hello\")"
   ]
  },
  {
   "cell_type": "code",
   "execution_count": 5,
   "metadata": {},
   "outputs": [
    {
     "data": {
      "text/plain": [
       "builtin_function_or_method"
      ]
     },
     "execution_count": 5,
     "metadata": {},
     "output_type": "execute_result"
    }
   ],
   "source": [
    "# Type tells us if something is a built-in function or method\n",
    "type(len)"
   ]
  },
  {
   "cell_type": "code",
   "execution_count": 6,
   "metadata": {},
   "outputs": [
    {
     "data": {
      "text/plain": [
       "<function max>"
      ]
     },
     "execution_count": 6,
     "metadata": {},
     "output_type": "execute_result"
    }
   ],
   "source": [
    "# Typing the name of a function ain't the same thing as running that function. \n",
    "# Think of the difference between a recipe and a plate of cookies created by following that recipe.\n",
    "max"
   ]
  },
  {
   "cell_type": "code",
   "execution_count": 7,
   "metadata": {},
   "outputs": [
    {
     "name": "stdout",
     "output_type": "stream",
     "text": [
      "some sortof input\n"
     ]
    }
   ],
   "source": [
    "print(\"some sortof input\")"
   ]
  },
  {
   "cell_type": "markdown",
   "metadata": {},
   "source": [
    "##### Takeaways so far:\n",
    "- To run a function, we need the function's name followed by parentheses\n",
    "- Function names without the parentheses don't run, they represent the function's body."
   ]
  },
  {
   "cell_type": "markdown",
   "metadata": {},
   "source": [
    "## User Defined Functions\n",
    "- Step 1 is to define the function\n",
    "- Step 2 is to use the function with a function call/invocation\n",
    "\n",
    "###  How to Make and Use Your Own Function\n",
    "1. Define your function:\n",
    "    - Determine the code that needs to happen:\n",
    "    - Use any necessary input parameters. \n",
    "    - Write out the code for the sequence of steps the function needs to accomplish\n",
    "    - Return the function's return value\n",
    "2. Call the function to run it, sending in any input arguments."
   ]
  },
  {
   "cell_type": "code",
   "execution_count": 8,
   "metadata": {},
   "outputs": [],
   "source": [
    "# Defining a function\n",
    "def increment(n):\n",
    "    \"\"\"This function adds one to any input.\"\"\" # docstring\n",
    "    return n + 1"
   ]
  },
  {
   "cell_type": "code",
   "execution_count": 9,
   "metadata": {},
   "outputs": [
    {
     "data": {
      "text/plain": [
       "1"
      ]
     },
     "execution_count": 9,
     "metadata": {},
     "output_type": "execute_result"
    }
   ],
   "source": [
    "increment(0)"
   ]
  },
  {
   "cell_type": "code",
   "execution_count": 10,
   "metadata": {},
   "outputs": [],
   "source": [
    "# In Jupyter/iPython, a question mark after a function's name shows you its docstring @ the bottom of the notebook\n",
    "increment?"
   ]
  },
  {
   "cell_type": "code",
   "execution_count": 11,
   "metadata": {},
   "outputs": [
    {
     "data": {
      "text/plain": [
       "2"
      ]
     },
     "execution_count": 11,
     "metadata": {},
     "output_type": "execute_result"
    }
   ],
   "source": [
    "# Running the function w/ an input argument\n",
    "increment(1)"
   ]
  },
  {
   "cell_type": "code",
   "execution_count": 12,
   "metadata": {},
   "outputs": [
    {
     "data": {
      "text/plain": [
       "3"
      ]
     },
     "execution_count": 12,
     "metadata": {},
     "output_type": "execute_result"
    }
   ],
   "source": [
    "increment(2)"
   ]
  },
  {
   "cell_type": "code",
   "execution_count": 13,
   "metadata": {},
   "outputs": [
    {
     "data": {
      "text/plain": [
       "7"
      ]
     },
     "execution_count": 13,
     "metadata": {},
     "output_type": "execute_result"
    }
   ],
   "source": [
    "increment(increment(5))"
   ]
  },
  {
   "cell_type": "code",
   "execution_count": 14,
   "metadata": {},
   "outputs": [
    {
     "data": {
      "text/plain": [
       "5"
      ]
     },
     "execution_count": 14,
     "metadata": {},
     "output_type": "execute_result"
    }
   ],
   "source": [
    "# Notice how each function's return value can be used as an input to the next function.\n",
    "# This allows us to create chain reactions\n",
    "# Principle of substitution: increment(1) is the same as 2\n",
    "increment(increment(increment(increment(1))))"
   ]
  },
  {
   "cell_type": "markdown",
   "metadata": {},
   "source": [
    "### Function Anatomy and Key Concepts\n",
    "- `def` starts a function definition\n",
    "- The function name follows `def`\n",
    "- The parameters (variables that hold any inputs) are in parentheses\n",
    "- Colon after the parameter parentheses\n",
    "- Docstring before the body\n",
    "- The function's body is indented one level\n",
    "- Return should be the last line of your function, to return your output.\n",
    "- Function invocation means we're running the function, likely with some input arguments"
   ]
  },
  {
   "cell_type": "markdown",
   "metadata": {},
   "source": [
    "## The Return on using return\n",
    "- Prefer to return values from functions\n",
    "- If your function exists to transform values, _always_ return the value.\n",
    "- Printing ain't returning. Printing always returns `None`\n",
    "- Unless you specify a return value, the default return value of a function is `None`."
   ]
  },
  {
   "cell_type": "code",
   "execution_count": 15,
   "metadata": {},
   "outputs": [
    {
     "name": "stdout",
     "output_type": "stream",
     "text": [
      "100\n",
      "None\n",
      "<class 'NoneType'>\n"
     ]
    }
   ],
   "source": [
    "# Print always returns `None`\n",
    "x = print(100)\n",
    "print(x)\n",
    "print(type(x))"
   ]
  },
  {
   "cell_type": "code",
   "execution_count": 16,
   "metadata": {},
   "outputs": [
    {
     "name": "stdout",
     "output_type": "stream",
     "text": [
      "You withdrew $400 dollars from the ATM\n",
      "400\n",
      "None\n",
      "<class 'NoneType'>\n"
     ]
    }
   ],
   "source": [
    "# x is the parameter (input variable) that will hold any input sent into this function w/ the invocation\n",
    "def print_atm(x):\n",
    "    print(f\"You withdrew ${x} dollars from the ATM\")\n",
    "    print(x)\n",
    "\n",
    "# 400 is the input argument\n",
    "x = print_atm(400)\n",
    "print(x)\n",
    "print(type(x))"
   ]
  },
  {
   "cell_type": "code",
   "execution_count": 17,
   "metadata": {},
   "outputs": [
    {
     "name": "stdout",
     "output_type": "stream",
     "text": [
      "You withdrew $40 dollars from the ATM\n",
      "40\n",
      "<class 'int'>\n"
     ]
    }
   ],
   "source": [
    "def return_atm(x):\n",
    "    print(f\"You withdrew ${x} dollars from the ATM\")\n",
    "    return x\n",
    "\n",
    "x = return_atm(40)\n",
    "print(x)\n",
    "print(type(x))"
   ]
  },
  {
   "cell_type": "code",
   "execution_count": 18,
   "metadata": {},
   "outputs": [],
   "source": [
    "# Can we call function_B from inside the definition for function A?\n",
    "# Yes\n",
    "def square(n):\n",
    "    \"\"\"Squares the input variable. TODO: check to make sure the input is numeric\"\"\"\n",
    "    return n**2"
   ]
  },
  {
   "cell_type": "code",
   "execution_count": 19,
   "metadata": {},
   "outputs": [
    {
     "data": {
      "text/plain": [
       "[4, 9, 16, 25]"
      ]
     },
     "execution_count": 19,
     "metadata": {},
     "output_type": "execute_result"
    }
   ],
   "source": [
    "def square_each_number(numbers):\n",
    "    output = [square(n) for n in numbers]\n",
    "    return output\n",
    "\n",
    "square_each_number([2, 3, 4, 5])"
   ]
  },
  {
   "cell_type": "markdown",
   "metadata": {},
   "source": [
    "#### Takeaways:\n",
    "- Unless you specifically mean for your function _not_ to return any values, always return from your functions\n",
    "- Print is not the same as `return`.\n",
    "- We can define new functions by using function calls to other functions in the body"
   ]
  },
  {
   "cell_type": "markdown",
   "metadata": {},
   "source": [
    "## Default Arguments, Keyword Arguments\n",
    "- Allow us to set default values in case the \"calling code\" doesn't send in any input arguments\n",
    "- Allow us to specify each argument by its parameter name"
   ]
  },
  {
   "cell_type": "code",
   "execution_count": 20,
   "metadata": {},
   "outputs": [],
   "source": [
    "def favorite_number(n=4):\n",
    "    return f\"{n} is my favorite number\""
   ]
  },
  {
   "cell_type": "code",
   "execution_count": 21,
   "metadata": {},
   "outputs": [
    {
     "data": {
      "text/plain": [
       "'4 is my favorite number'"
      ]
     },
     "execution_count": 21,
     "metadata": {},
     "output_type": "execute_result"
    }
   ],
   "source": [
    "# Running the function with no input argument means we get the default value\n",
    "favorite_number()"
   ]
  },
  {
   "cell_type": "code",
   "execution_count": 22,
   "metadata": {},
   "outputs": [
    {
     "data": {
      "text/plain": [
       "'6 is my favorite number'"
      ]
     },
     "execution_count": 22,
     "metadata": {},
     "output_type": "execute_result"
    }
   ],
   "source": [
    "# If we overwrite the parameter default with our own argument, the argument wins\n",
    "favorite_number(6)"
   ]
  },
  {
   "cell_type": "code",
   "execution_count": 23,
   "metadata": {},
   "outputs": [],
   "source": [
    "def sayhello(name='World', greeting='Hello'):\n",
    "    \"\"\"Returns a string greeting the name argument by the greeting argument\"\"\"\n",
    "    return f\"{greeting}, {name}!\""
   ]
  },
  {
   "cell_type": "code",
   "execution_count": 24,
   "metadata": {},
   "outputs": [
    {
     "data": {
      "text/plain": [
       "'Hello, World!'"
      ]
     },
     "execution_count": 24,
     "metadata": {},
     "output_type": "execute_result"
    }
   ],
   "source": [
    "# No arguments passed in the function call/invocation mean any defaults will \n",
    "sayhello()"
   ]
  },
  {
   "cell_type": "code",
   "execution_count": 25,
   "metadata": {},
   "outputs": [
    {
     "data": {
      "text/plain": [
       "\"Y'all, Howdy!\""
      ]
     },
     "execution_count": 25,
     "metadata": {},
     "output_type": "execute_result"
    }
   ],
   "source": [
    "# If you don't specify keywords, they are assigned left to right\n",
    "# Kindof error prone to rely on left to right evaluation here...\n",
    "sayhello(\"Howdy\", \"Y'all\")"
   ]
  },
  {
   "cell_type": "code",
   "execution_count": 26,
   "metadata": {},
   "outputs": [
    {
     "data": {
      "text/plain": [
       "'Howdy, World!'"
      ]
     },
     "execution_count": 26,
     "metadata": {},
     "output_type": "execute_result"
    }
   ],
   "source": [
    "# We can specify the values assign to specific argument(s)\n",
    "sayhello(greeting=\"Howdy\")"
   ]
  },
  {
   "cell_type": "code",
   "execution_count": 27,
   "metadata": {},
   "outputs": [
    {
     "data": {
      "text/plain": [
       "'Hello, Germain!'"
      ]
     },
     "execution_count": 27,
     "metadata": {},
     "output_type": "execute_result"
    }
   ],
   "source": [
    "sayhello(name=\"Germain\")"
   ]
  },
  {
   "cell_type": "code",
   "execution_count": 28,
   "metadata": {},
   "outputs": [
    {
     "data": {
      "text/plain": [
       "'Greetings and salutations, Germain!'"
      ]
     },
     "execution_count": 28,
     "metadata": {},
     "output_type": "execute_result"
    }
   ],
   "source": [
    "sayhello(greeting=\"Greetings and salutations\", name=\"Germain\")"
   ]
  },
  {
   "cell_type": "code",
   "execution_count": 29,
   "metadata": {},
   "outputs": [
    {
     "data": {
      "text/plain": [
       "'Greetings and salutations, Germain!'"
      ]
     },
     "execution_count": 29,
     "metadata": {},
     "output_type": "execute_result"
    }
   ],
   "source": [
    "sayhello(name=\"Germain\", greeting=\"Greetings and salutations\")"
   ]
  },
  {
   "cell_type": "markdown",
   "metadata": {},
   "source": [
    "## Zooming in on function scope\n",
    "- Variables definined inside a function are only visible to the other code in that function's body\n",
    "- Parameters (input variables) are only visible inside of the function\n",
    "- Each function creates a little \"bubble\" of scope. \n",
    "- `return` is how we get values out of a function\n",
    "- Generally, we want our functions to be \"pure\", meaning they only operate on the input arguments\n",
    "- Parameters and variables defined inside a funciton are called \"local\""
   ]
  },
  {
   "cell_type": "code",
   "execution_count": 30,
   "metadata": {},
   "outputs": [],
   "source": [
    "# If you assign a variable that a function uses inside\n",
    "# And that function runs\n",
    "# That original global variable holds its original global value.\n",
    "result = \"Banana\""
   ]
  },
  {
   "cell_type": "code",
   "execution_count": 31,
   "metadata": {},
   "outputs": [
    {
     "data": {
      "text/plain": [
       "4"
      ]
     },
     "execution_count": 31,
     "metadata": {},
     "output_type": "execute_result"
    }
   ],
   "source": [
    "def add_two(some_number):\n",
    "    result = some_number + 2\n",
    "    return result\n",
    "\n",
    "add_two(2)"
   ]
  },
  {
   "cell_type": "code",
   "execution_count": 32,
   "metadata": {},
   "outputs": [
    {
     "data": {
      "text/plain": [
       "'Banana'"
      ]
     },
     "execution_count": 32,
     "metadata": {},
     "output_type": "execute_result"
    }
   ],
   "source": [
    "# The variable \"result\" was only ever defined inside of the add_two function, so it's not visible to the rest of the script\n",
    "result"
   ]
  },
  {
   "cell_type": "code",
   "execution_count": 33,
   "metadata": {},
   "outputs": [
    {
     "ename": "NameError",
     "evalue": "name 'some_number' is not defined",
     "output_type": "error",
     "traceback": [
      "\u001b[0;31m---------------------------------------------------------------------------\u001b[0m",
      "\u001b[0;31mNameError\u001b[0m                                 Traceback (most recent call last)",
      "\u001b[0;32m<ipython-input-33-f4815f336c9a>\u001b[0m in \u001b[0;36m<module>\u001b[0;34m\u001b[0m\n\u001b[1;32m      1\u001b[0m \u001b[0;31m# The variable \"some_number\" only exists inside of the is_two function, and it is not visible outside the function\u001b[0m\u001b[0;34m\u001b[0m\u001b[0;34m\u001b[0m\u001b[0;34m\u001b[0m\u001b[0m\n\u001b[0;32m----> 2\u001b[0;31m \u001b[0msome_number\u001b[0m\u001b[0;34m\u001b[0m\u001b[0;34m\u001b[0m\u001b[0m\n\u001b[0m",
      "\u001b[0;31mNameError\u001b[0m: name 'some_number' is not defined"
     ]
    }
   ],
   "source": [
    "# The variable \"some_number\" only exists inside of the is_two function, and it is not visible outside the function\n",
    "some_number"
   ]
  },
  {
   "cell_type": "code",
   "execution_count": 34,
   "metadata": {},
   "outputs": [],
   "source": [
    "# Example of a \"pure\" function \n",
    "# Pure functions operate only on their inputs\n",
    "# Pure functions are 100% deterministic\n",
    "# Math functions are pure\n",
    "def add(a, b):\n",
    "    return a + b\n",
    "\n",
    "assert add(1, 2) == 3\n",
    "assert add(3, 4) == 7"
   ]
  },
  {
   "cell_type": "markdown",
   "metadata": {},
   "source": [
    "## Intro to Lambdas \n",
    "- Lambdas are functions. Don't freak out.\n",
    "- Lambdas are functions without a name that are defined on on one line\n",
    "- The `return` for a lambda is implicit\n",
    "- Strictly speaking, lambdas are not a _necessary_ thing, but they can be pretty helpful sometimes\n",
    "- Except for defining in one line or as part of an argument, anything you can do with a regular function, you can do with a lambda\n"
   ]
  },
  {
   "cell_type": "code",
   "execution_count": 35,
   "metadata": {},
   "outputs": [],
   "source": [
    "def square(n):\n",
    "    return n ** 2"
   ]
  },
  {
   "cell_type": "code",
   "execution_count": 36,
   "metadata": {},
   "outputs": [],
   "source": [
    "# Assigning a lamba to a variable is how we \"name\" a lambda\n",
    "# lambda parameter: parameter ** 2\n",
    "lambda_square = lambda n: n ** 2"
   ]
  },
  {
   "cell_type": "code",
   "execution_count": 37,
   "metadata": {},
   "outputs": [
    {
     "data": {
      "text/plain": [
       "16"
      ]
     },
     "execution_count": 37,
     "metadata": {},
     "output_type": "execute_result"
    }
   ],
   "source": [
    "square(4)"
   ]
  },
  {
   "cell_type": "code",
   "execution_count": 38,
   "metadata": {},
   "outputs": [
    {
     "data": {
      "text/plain": [
       "16"
      ]
     },
     "execution_count": 38,
     "metadata": {},
     "output_type": "execute_result"
    }
   ],
   "source": [
    "lambda_square(4)"
   ]
  },
  {
   "cell_type": "markdown",
   "metadata": {},
   "source": [
    "### If lambdas are not \"necessary\", where will you likely see them?\n",
    "- Inside of list comprehensions.\n",
    "- Inside of keyword arguments for functions like .max, .min, .sort, etc... (especially with lists of dictionaries)"
   ]
  },
  {
   "cell_type": "code",
   "execution_count": 39,
   "metadata": {},
   "outputs": [
    {
     "data": {
      "text/plain": [
       "['mandarin orange', 'mango', 'kiwi', 'strawberry', 'guava', 'pineapple']"
      ]
     },
     "execution_count": 39,
     "metadata": {},
     "output_type": "execute_result"
    }
   ],
   "source": [
    "fruits = ['mandarin orange', 'mango', 'kiwi', 'strawberry', 'guava', 'pineapple']\n",
    "fruits"
   ]
  },
  {
   "cell_type": "code",
   "execution_count": 40,
   "metadata": {},
   "outputs": [
    {
     "data": {
      "text/plain": [
       "'mandarin orange'"
      ]
     },
     "execution_count": 40,
     "metadata": {},
     "output_type": "execute_result"
    }
   ],
   "source": [
    "# Get the maximum value from fruits, based on the length of characters in the string\n",
    "max(fruits, key=lambda x: len(x))"
   ]
  },
  {
   "cell_type": "code",
   "execution_count": 41,
   "metadata": {},
   "outputs": [
    {
     "data": {
      "text/plain": [
       "'kiwi'"
      ]
     },
     "execution_count": 41,
     "metadata": {},
     "output_type": "execute_result"
    }
   ],
   "source": [
    "min(fruits, key=lambda fruit: len(fruit))"
   ]
  },
  {
   "cell_type": "code",
   "execution_count": 42,
   "metadata": {},
   "outputs": [
    {
     "data": {
      "text/plain": [
       "['kiwi', 'mango', 'guava', 'pineapple', 'strawberry', 'mandarin orange']"
      ]
     },
     "execution_count": 42,
     "metadata": {},
     "output_type": "execute_result"
    }
   ],
   "source": [
    "fruits.sort(key=lambda x: len(x))\n",
    "fruits"
   ]
  },
  {
   "cell_type": "code",
   "execution_count": 43,
   "metadata": {},
   "outputs": [
    {
     "data": {
      "text/plain": [
       "[{'type': 'water', 'calories': 0, 'number_consumed': 5},\n",
       " {'type': 'orange juice', 'calories': 220, 'number_consumed': 3},\n",
       " {'type': 'gatorade', 'calories': 140, 'number_consumed': 20}]"
      ]
     },
     "execution_count": 43,
     "metadata": {},
     "output_type": "execute_result"
    }
   ],
   "source": [
    "drinks = [\n",
    "    {\n",
    "        \"type\": \"water\",\n",
    "        \"calories\": 0,\n",
    "        \"number_consumed\": 5\n",
    "    },\n",
    "    {\n",
    "        \"type\": \"orange juice\",\n",
    "        \"calories\": 220,\n",
    "        \"number_consumed\": 3\n",
    "    },\n",
    "    {\n",
    "        \"type\": \"gatorade\",\n",
    "        \"calories\": 140,\n",
    "        \"number_consumed\": 20\n",
    "    }\n",
    "]\n",
    "drinks"
   ]
  },
  {
   "cell_type": "code",
   "execution_count": 44,
   "metadata": {},
   "outputs": [
    {
     "data": {
      "text/plain": [
       "{'type': 'orange juice', 'calories': 220, 'number_consumed': 3}"
      ]
     },
     "execution_count": 44,
     "metadata": {},
     "output_type": "execute_result"
    }
   ],
   "source": [
    "# Write the code to programmatically determine the beverage with the highest calories\n",
    "max(drinks, key=lambda n: n[\"calories\"])"
   ]
  },
  {
   "cell_type": "code",
   "execution_count": 45,
   "metadata": {},
   "outputs": [
    {
     "data": {
      "text/plain": [
       "[{'type': 'orange juice', 'calories': 220, 'number_consumed': 3},\n",
       " {'type': 'water', 'calories': 0, 'number_consumed': 5},\n",
       " {'type': 'gatorade', 'calories': 140, 'number_consumed': 20}]"
      ]
     },
     "execution_count": 45,
     "metadata": {},
     "output_type": "execute_result"
    }
   ],
   "source": [
    "# Sort the drinks list by the number of beverages consumed\n",
    "drinks.sort(key=lambda drink: drink[\"number_consumed\"])\n",
    "\n",
    "drinks"
   ]
  },
  {
   "cell_type": "code",
   "execution_count": 46,
   "metadata": {},
   "outputs": [
    {
     "data": {
      "text/plain": [
       "[{'type': 'water', 'calories': 0, 'number_consumed': 5},\n",
       " {'type': 'orange juice', 'calories': 220, 'number_consumed': 3},\n",
       " {'type': 'gatorade', 'calories': 140, 'number_consumed': 20}]"
      ]
     },
     "execution_count": 46,
     "metadata": {},
     "output_type": "execute_result"
    }
   ],
   "source": [
    "# Sort the drinks reverse-alphabetically by the drink's name\n",
    "drinks.sort(key=lambda drink: drink[\"type\"], reverse=True)\n",
    "drinks"
   ]
  },
  {
   "cell_type": "code",
   "execution_count": 47,
   "metadata": {},
   "outputs": [],
   "source": [
    "# We can totally define our own functions then use the function body in place of the lambda\n",
    "def sort_by_alphabetical_type(drink):\n",
    "    return drink[\"type\"]"
   ]
  },
  {
   "cell_type": "code",
   "execution_count": 48,
   "metadata": {},
   "outputs": [
    {
     "data": {
      "text/plain": [
       "[{'type': 'gatorade', 'calories': 140, 'number_consumed': 20},\n",
       " {'type': 'orange juice', 'calories': 220, 'number_consumed': 3},\n",
       " {'type': 'water', 'calories': 0, 'number_consumed': 5}]"
      ]
     },
     "execution_count": 48,
     "metadata": {},
     "output_type": "execute_result"
    }
   ],
   "source": [
    "# First time you're seeing a function's name w/o the parentheses to run it\n",
    "# .sort is telling sort_by_alphabetical_type to run\n",
    "drinks.sort(key=sort_by_alphabetical_type)\n",
    "drinks"
   ]
  },
  {
   "cell_type": "code",
   "execution_count": 49,
   "metadata": {},
   "outputs": [
    {
     "data": {
      "text/plain": [
       "[{'type': 'water', 'calories': 0, 'number_consumed': 5},\n",
       " {'type': 'orange juice', 'calories': 220, 'number_consumed': 3},\n",
       " {'type': 'gatorade', 'calories': 140, 'number_consumed': 20}]"
      ]
     },
     "execution_count": 49,
     "metadata": {},
     "output_type": "execute_result"
    }
   ],
   "source": [
    "# Sort by the product of calories times number_consumed\n",
    "drinks.sort(key=lambda x: x[\"calories\"] * x[\"number_consumed\"])\n",
    "drinks"
   ]
  },
  {
   "cell_type": "code",
   "execution_count": 50,
   "metadata": {},
   "outputs": [
    {
     "data": {
      "text/plain": [
       "[{'type': 'water', 'calories': 0, 'number_consumed': 5},\n",
       " {'type': 'gatorade', 'calories': 140, 'number_consumed': 20},\n",
       " {'type': 'orange juice', 'calories': 220, 'number_consumed': 3}]"
      ]
     },
     "execution_count": 50,
     "metadata": {},
     "output_type": "execute_result"
    }
   ],
   "source": [
    "# Sort by the number of characters in the \"type\" value for each dictionary\n",
    "drinks.sort(key=lambda x: len(x[\"type\"]))\n",
    "drinks"
   ]
  },
  {
   "cell_type": "code",
   "execution_count": null,
   "metadata": {},
   "outputs": [],
   "source": []
  }
 ],
 "metadata": {
  "kernelspec": {
   "display_name": "Python 3",
   "language": "python",
   "name": "python3"
  },
  "language_info": {
   "codemirror_mode": {
    "name": "ipython",
    "version": 3
   },
   "file_extension": ".py",
   "mimetype": "text/x-python",
   "name": "python",
   "nbconvert_exporter": "python",
   "pygments_lexer": "ipython3",
   "version": "3.8.5"
  }
 },
 "nbformat": 4,
 "nbformat_minor": 4
}
