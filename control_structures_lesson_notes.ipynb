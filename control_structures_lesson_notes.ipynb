{
 "cells": [
  {
   "cell_type": "code",
   "execution_count": 3,
   "metadata": {},
   "outputs": [
    {
     "name": "stdout",
     "output_type": "stream",
     "text": [
      "['Python', 'SQL', 'Bash']\n",
      "['Python', 'SQL', 'Bash']\n",
      "['Python', 'SQL', 'Bash']\n"
     ]
    }
   ],
   "source": [
    "languages = [\"Python\", \"SQL\", \"Bash\"]\n",
    "# for new_variable in list:\n",
    "for x in languages:\n",
    "    print(languages)"
   ]
  },
  {
   "cell_type": "code",
   "execution_count": 4,
   "metadata": {},
   "outputs": [
    {
     "name": "stdout",
     "output_type": "stream",
     "text": [
      "Python\n",
      "SQL\n",
      "Bash\n"
     ]
    }
   ],
   "source": [
    "# Let's manually access each and every item on this list\n",
    "print(languages[0])\n",
    "print(languages[1])\n",
    "print(languages[2])"
   ]
  },
  {
   "cell_type": "code",
   "execution_count": 6,
   "metadata": {},
   "outputs": [
    {
     "name": "stdout",
     "output_type": "stream",
     "text": [
      "0\n",
      "1\n",
      "2\n"
     ]
    }
   ],
   "source": [
    "# range(inclusive_start, exclusive_end, step)\n",
    "for i in range(0, 3):\n",
    "    print(i)"
   ]
  },
  {
   "cell_type": "code",
   "execution_count": 7,
   "metadata": {},
   "outputs": [
    {
     "name": "stdout",
     "output_type": "stream",
     "text": [
      "0\n",
      "1\n",
      "2\n"
     ]
    }
   ],
   "source": [
    "for i in range(0, len(languages)):\n",
    "    print(i)"
   ]
  },
  {
   "cell_type": "code",
   "execution_count": 9,
   "metadata": {},
   "outputs": [
    {
     "name": "stdout",
     "output_type": "stream",
     "text": [
      "Python\n",
      "SQL\n",
      "Bash\n"
     ]
    }
   ],
   "source": [
    "for i in range(0, len(languages)):\n",
    "    print(languages[i])"
   ]
  },
  {
   "cell_type": "code",
   "execution_count": 10,
   "metadata": {},
   "outputs": [
    {
     "name": "stdout",
     "output_type": "stream",
     "text": [
      "The variable at index 0 is Python\n",
      "The variable at index 1 is SQL\n",
      "The variable at index 2 is Bash\n"
     ]
    }
   ],
   "source": [
    "for i in range(0, len(languages)):\n",
    "    print(f\"The variable at index {i} is {languages[i]}\")"
   ]
  },
  {
   "cell_type": "code",
   "execution_count": 12,
   "metadata": {},
   "outputs": [
    {
     "name": "stdout",
     "output_type": "stream",
     "text": [
      "Python is a great language\n",
      "SQL is a great language\n",
      "Bash is a great language\n"
     ]
    }
   ],
   "source": [
    "# Instead of always using a numeric value from a for loop (like with range)\n",
    "# We can have syntax that CREATES a new variable to hold each item on the list\n",
    "# in order, starting with the first item on the list\n",
    "for x in languages:\n",
    "    print(f\"{x} is a great language\")"
   ]
  },
  {
   "cell_type": "code",
   "execution_count": 19,
   "metadata": {},
   "outputs": [
    {
     "name": "stdout",
     "output_type": "stream",
     "text": [
      "Python\n",
      "SQL\n",
      "Bash\n"
     ]
    }
   ],
   "source": [
    "for lang in languages:\n",
    "    print(lang)"
   ]
  },
  {
   "cell_type": "code",
   "execution_count": 26,
   "metadata": {},
   "outputs": [
    {
     "name": "stdout",
     "output_type": "stream",
     "text": [
      "Faith is ready for your question\n",
      "John is ready for your question\n",
      "Ryan is out of the office and looking forward to helping later.\n"
     ]
    }
   ],
   "source": [
    "# List of Codeup Staff for Germain\n",
    "staff = [\"Faith\", \"John\", \"Ryan\"]\n",
    "\n",
    "in_office = [\"Faith\", \"John\"]\n",
    "\n",
    "for person in staff:\n",
    "    if person in in_office:\n",
    "        print(f\"{person} is ready for your question\")\n",
    "    else:\n",
    "        print(f\"{person} is out of the office and looking forward to helping later.\")"
   ]
  },
  {
   "cell_type": "markdown",
   "metadata": {},
   "source": [
    "## Things you'll experience\n",
    "1. It works and I don't know why\n",
    "2. It doesn't work and I don't know why\n",
    "\n",
    "Way forward is to stop coding. Slow down. Think carefully and closely.\n",
    "\n",
    "> Programming happens between your ears, behind your eyes, on whiteboards, conversations, and diagrams. \n",
    "\n",
    "> Coding is when we type out the syntactically correct code for the program we've designed"
   ]
  },
  {
   "cell_type": "code",
   "execution_count": 28,
   "metadata": {},
   "outputs": [
    {
     "name": "stdout",
     "output_type": "stream",
     "text": [
      "The item at index 0 is Linux\n",
      "The item at index 1 is Windows\n",
      "The item at index 2 is Mac OS\n",
      "The item at index 3 is Solaris\n"
     ]
    }
   ],
   "source": [
    "# Sometimes with a for loop, we need BOTH the item on the list and the index of that item\n",
    "# Manual example:\n",
    "operating_systems = [\"Linux\", \"Windows\", \"Mac OS\", \"Solaris\"]\n",
    "\n",
    "# Set our index to zero, manually\n",
    "i = 0\n",
    "\n",
    "print(f\"The item at index {i} is {operating_systems[i]}\")\n",
    "\n",
    "# We'll increase our index:\n",
    "i += 1\n",
    "print(f\"The item at index {i} is {operating_systems[i]}\")\n",
    "\n",
    "# We'll increase our index:\n",
    "i += 1\n",
    "print(f\"The item at index {i} is {operating_systems[i]}\")\n",
    "\n",
    "# We'll increase our index:\n",
    "i += 1\n",
    "print(f\"The item at index {i} is {operating_systems[i]}\")"
   ]
  },
  {
   "cell_type": "code",
   "execution_count": 29,
   "metadata": {},
   "outputs": [
    {
     "name": "stdout",
     "output_type": "stream",
     "text": [
      "The item at index 0 is Linux\n",
      "The item at index 1 is Windows\n",
      "The item at index 2 is Mac OS\n",
      "The item at index 3 is Solaris\n"
     ]
    }
   ],
   "source": [
    "# How to get the index and each item from the list:\n",
    "# for index, new_variable in enumerate(list_variable):\n",
    "# i, new_variable unpacks the tuple\n",
    "for i, os in enumerate(operating_systems):\n",
    "    print(f\"The item at index {i} is {os}\")"
   ]
  },
  {
   "cell_type": "code",
   "execution_count": 39,
   "metadata": {},
   "outputs": [
    {
     "name": "stdout",
     "output_type": "stream",
     "text": [
      "(0, 'Linux')\n",
      "(1, 'Windows')\n",
      "(2, 'Mac OS')\n",
      "(3, 'Solaris')\n"
     ]
    }
   ],
   "source": [
    "for x in enumerate(operating_systems):\n",
    "    print(x)"
   ]
  },
  {
   "cell_type": "code",
   "execution_count": 34,
   "metadata": {},
   "outputs": [
    {
     "data": {
      "text/plain": [
       "(3, 'Solaris')"
      ]
     },
     "execution_count": 34,
     "metadata": {},
     "output_type": "execute_result"
    }
   ],
   "source": [
    "x"
   ]
  },
  {
   "cell_type": "code",
   "execution_count": null,
   "metadata": {},
   "outputs": [],
   "source": []
  }
 ],
 "metadata": {
  "kernelspec": {
   "display_name": "Python 3",
   "language": "python",
   "name": "python3"
  },
  "language_info": {
   "codemirror_mode": {
    "name": "ipython",
    "version": 3
   },
   "file_extension": ".py",
   "mimetype": "text/x-python",
   "name": "python",
   "nbconvert_exporter": "python",
   "pygments_lexer": "ipython3",
   "version": "3.8.5"
  }
 },
 "nbformat": 4,
 "nbformat_minor": 4
}
