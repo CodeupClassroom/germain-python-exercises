{
 "cells": [
  {
   "cell_type": "code",
   "execution_count": 4,
   "metadata": {},
   "outputs": [
    {
     "data": {
      "text/plain": [
       "'Hello'"
      ]
     },
     "execution_count": 4,
     "metadata": {},
     "output_type": "execute_result"
    }
   ],
   "source": [
    "\"Hello\""
   ]
  },
  {
   "cell_type": "code",
   "execution_count": 5,
   "metadata": {},
   "outputs": [
    {
     "data": {
      "text/plain": [
       "6"
      ]
     },
     "execution_count": 5,
     "metadata": {},
     "output_type": "execute_result"
    }
   ],
   "source": [
    "2 * 3"
   ]
  },
  {
   "cell_type": "code",
   "execution_count": 6,
   "metadata": {},
   "outputs": [
    {
     "data": {
      "text/plain": [
       "12"
      ]
     },
     "execution_count": 6,
     "metadata": {},
     "output_type": "execute_result"
    }
   ],
   "source": [
    "4 * 3"
   ]
  },
  {
   "cell_type": "markdown",
   "metadata": {},
   "source": [
    "## Jupyter Notebook Shortcuts\n",
    "- `esc` puts you into \"command mode\", which highlights cells in blue.\n",
    "- `enter` key puts you into \"edit mode\", which highlights the current cell in green and allows us to edit that cell\n",
    "- `Command + y` in edit mode (and OS wide) is an undo. Edits/undos in a specific cell only apply to that one cell.\n",
    "- `Command + y` in edito mode (and in most application) is a redo.\n",
    "- From command mode, `Z` is an undo across the notebook\n",
    "- From command mode, `dd` is a delete the current cell\n",
    "- From command mode, `y` turns a cell into a code cell\n",
    "- From command mode, `m` turns a cell into a markdown cell\n",
    "- `Shift + Enter` runs a cell. "
   ]
  },
  {
   "cell_type": "markdown",
   "metadata": {},
   "source": [
    "## Other Jupyter Heads Up:\n",
    "- First step to troubleshooting a notebook: goto Kernel, then Restart\n",
    "- Second step in troubleshooting a notebook: stop the jupyter notebook service from the terminal and re-launch it."
   ]
  },
  {
   "cell_type": "code",
   "execution_count": null,
   "metadata": {},
   "outputs": [],
   "source": []
  }
 ],
 "metadata": {
  "kernelspec": {
   "display_name": "Python 3",
   "language": "python",
   "name": "python3"
  },
  "language_info": {
   "codemirror_mode": {
    "name": "ipython",
    "version": 3
   },
   "file_extension": ".py",
   "mimetype": "text/x-python",
   "name": "python",
   "nbconvert_exporter": "python",
   "pygments_lexer": "ipython3",
   "version": "3.8.5"
  }
 },
 "nbformat": 4,
 "nbformat_minor": 4
}
