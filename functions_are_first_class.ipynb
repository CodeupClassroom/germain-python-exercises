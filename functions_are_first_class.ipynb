{
 "cells": [
  {
   "cell_type": "markdown",
   "id": "unknown-exhibition",
   "metadata": {},
   "source": [
    "# Function Bodies vs. Function Calls"
   ]
  },
  {
   "cell_type": "markdown",
   "id": "variable-burke",
   "metadata": {},
   "source": [
    "- A function's body is the algorithm for the function\n",
    "- A function call is when we tell Python to RUN that function/algorithm/sequence of st3eps"
   ]
  },
  {
   "cell_type": "code",
   "execution_count": 1,
   "id": "boolean-motor",
   "metadata": {},
   "outputs": [
    {
     "data": {
      "text/plain": [
       "<function len(obj, /)>"
      ]
     },
     "execution_count": 1,
     "metadata": {},
     "output_type": "execute_result"
    }
   ],
   "source": [
    "# A function's body is the name of the function without parentheses\n",
    "len"
   ]
  },
  {
   "cell_type": "code",
   "execution_count": 2,
   "id": "powered-trail",
   "metadata": {},
   "outputs": [
    {
     "data": {
      "text/plain": [
       "4"
      ]
     },
     "execution_count": 2,
     "metadata": {},
     "output_type": "execute_result"
    }
   ],
   "source": [
    "# We tell functions to run with parentheses\n",
    "# Parentheses mean the programmer wrote code to tell the function to run\n",
    "len([1, 2, 3, 4])"
   ]
  },
  {
   "cell_type": "code",
   "execution_count": 3,
   "id": "textile-lightning",
   "metadata": {},
   "outputs": [],
   "source": [
    "# Another example of a function body\n",
    "def square(x):\n",
    "    return x * x"
   ]
  },
  {
   "cell_type": "code",
   "execution_count": 4,
   "id": "inside-concentration",
   "metadata": {},
   "outputs": [
    {
     "data": {
      "text/plain": [
       "<function __main__.square(x)>"
      ]
     },
     "execution_count": 4,
     "metadata": {},
     "output_type": "execute_result"
    }
   ],
   "source": [
    "square"
   ]
  },
  {
   "cell_type": "code",
   "execution_count": 5,
   "id": "sorted-polls",
   "metadata": {},
   "outputs": [
    {
     "data": {
      "text/plain": [
       "4"
      ]
     },
     "execution_count": 5,
     "metadata": {},
     "output_type": "execute_result"
    }
   ],
   "source": [
    "square(2)"
   ]
  },
  {
   "cell_type": "code",
   "execution_count": 6,
   "id": "arabic-trouble",
   "metadata": {},
   "outputs": [],
   "source": [
    "staff = [\"John\", \"Ravinder\", \"Madeleine\", \"Zach\", \"Faith\", \"Faith\", \"Maggie\", \"Ryan\"]"
   ]
  },
  {
   "cell_type": "code",
   "execution_count": 7,
   "id": "average-spectacular",
   "metadata": {},
   "outputs": [
    {
     "data": {
      "text/plain": [
       "2"
      ]
     },
     "execution_count": 7,
     "metadata": {},
     "output_type": "execute_result"
    }
   ],
   "source": [
    "staff.count(\"Faith\")"
   ]
  },
  {
   "cell_type": "code",
   "execution_count": 8,
   "id": "weird-cleveland",
   "metadata": {},
   "outputs": [
    {
     "data": {
      "text/plain": [
       "0"
      ]
     },
     "execution_count": 8,
     "metadata": {},
     "output_type": "execute_result"
    }
   ],
   "source": [
    "staff.count(\"Sylvester Stalone\")"
   ]
  },
  {
   "cell_type": "code",
   "execution_count": 9,
   "id": "electric-equity",
   "metadata": {},
   "outputs": [
    {
     "data": {
      "text/plain": [
       "<function list.count(value, /)>"
      ]
     },
     "execution_count": 9,
     "metadata": {},
     "output_type": "execute_result"
    }
   ],
   "source": [
    "staff.count"
   ]
  },
  {
   "cell_type": "code",
   "execution_count": 10,
   "id": "norwegian-scope",
   "metadata": {},
   "outputs": [
    {
     "data": {
      "text/plain": [
       "'Faith'"
      ]
     },
     "execution_count": 10,
     "metadata": {},
     "output_type": "execute_result"
    }
   ],
   "source": [
    "# When a function doesn't have parentheses\n",
    "# We're not the ones telling that function to run\n",
    "# In this case here, MAX function is telling the list_variable.count method to run\n",
    "max(staff, key=staff.count)"
   ]
  },
  {
   "cell_type": "code",
   "execution_count": 11,
   "id": "collected-packaging",
   "metadata": {},
   "outputs": [
    {
     "data": {
      "text/plain": [
       "'Madeleine'"
      ]
     },
     "execution_count": 11,
     "metadata": {},
     "output_type": "execute_result"
    }
   ],
   "source": [
    "max(staff, key=lambda x: len(x))"
   ]
  },
  {
   "cell_type": "code",
   "execution_count": 12,
   "id": "circular-salad",
   "metadata": {},
   "outputs": [
    {
     "data": {
      "text/plain": [
       "<function __main__.<lambda>(x)>"
      ]
     },
     "execution_count": 12,
     "metadata": {},
     "output_type": "execute_result"
    }
   ],
   "source": [
    "lambda x: x ** 2"
   ]
  },
  {
   "cell_type": "code",
   "execution_count": 13,
   "id": "verbal-plenty",
   "metadata": {},
   "outputs": [
    {
     "data": {
      "text/plain": [
       "<function __main__.<lambda>(x)>"
      ]
     },
     "execution_count": 13,
     "metadata": {},
     "output_type": "execute_result"
    }
   ],
   "source": [
    "add_one = lambda x: x + 1\n",
    "add_one"
   ]
  },
  {
   "cell_type": "code",
   "execution_count": 14,
   "id": "hidden-canberra",
   "metadata": {},
   "outputs": [
    {
     "data": {
      "text/plain": [
       "3"
      ]
     },
     "execution_count": 14,
     "metadata": {},
     "output_type": "execute_result"
    }
   ],
   "source": [
    "add_one(2)"
   ]
  },
  {
   "cell_type": "code",
   "execution_count": 15,
   "id": "worth-psychiatry",
   "metadata": {},
   "outputs": [
    {
     "data": {
      "text/plain": [
       "4"
      ]
     },
     "execution_count": 15,
     "metadata": {},
     "output_type": "execute_result"
    }
   ],
   "source": [
    "# Max's default sort is alphabetic or numeric ascending\n",
    "max([2, 3, 4])"
   ]
  },
  {
   "cell_type": "code",
   "execution_count": 16,
   "id": "temporal-makeup",
   "metadata": {},
   "outputs": [
    {
     "data": {
      "text/plain": [
       "'z'"
      ]
     },
     "execution_count": 16,
     "metadata": {},
     "output_type": "execute_result"
    }
   ],
   "source": [
    "# sort, max, min sort lists of strings alphabetically by default\n",
    "max([\"z\", \"abc\", \"defg\", \"alfkjwe\"])"
   ]
  },
  {
   "cell_type": "code",
   "execution_count": 17,
   "id": "italic-dominican",
   "metadata": {},
   "outputs": [
    {
     "data": {
      "text/plain": [
       "['abc', 'alfkjwe', 'defg', 'z']"
      ]
     },
     "execution_count": 17,
     "metadata": {},
     "output_type": "execute_result"
    }
   ],
   "source": [
    "# sort, max, min sort lists of strings alphabetically by default\n",
    "x = [\"z\", \"abc\", \"defg\", \"alfkjwe\"]\n",
    "x.sort()\n",
    "x"
   ]
  },
  {
   "cell_type": "code",
   "execution_count": 18,
   "id": "directed-export",
   "metadata": {},
   "outputs": [
    {
     "data": {
      "text/plain": [
       "['z', 'abc', 'defg', 'alfkjwe']"
      ]
     },
     "execution_count": 18,
     "metadata": {},
     "output_type": "execute_result"
    }
   ],
   "source": [
    "# Sort X by the number of letters in each string\n",
    "x.sort(key=lambda string: len(string))\n",
    "x"
   ]
  },
  {
   "cell_type": "code",
   "execution_count": 19,
   "id": "stainless-sailing",
   "metadata": {},
   "outputs": [],
   "source": [
    "def say_hello(greeting=\"Hello\", name=\"World\"):\n",
    "    return greeting + \" \" + name + \"!\""
   ]
  },
  {
   "cell_type": "code",
   "execution_count": 20,
   "id": "purple-integral",
   "metadata": {},
   "outputs": [
    {
     "data": {
      "text/plain": [
       "'Hello World!'"
      ]
     },
     "execution_count": 20,
     "metadata": {},
     "output_type": "execute_result"
    }
   ],
   "source": [
    "say_hello()"
   ]
  },
  {
   "cell_type": "code",
   "execution_count": 21,
   "id": "crucial-mediterranean",
   "metadata": {},
   "outputs": [
    {
     "data": {
      "text/plain": [
       "\"Top o' the morning to you World!\""
      ]
     },
     "execution_count": 21,
     "metadata": {},
     "output_type": "execute_result"
    }
   ],
   "source": [
    "say_hello(greeting=\"Top o' the morning to you\")"
   ]
  },
  {
   "cell_type": "code",
   "execution_count": 22,
   "id": "lesbian-aurora",
   "metadata": {},
   "outputs": [],
   "source": [
    "drinks = [\n",
    "    {\n",
    "        \"type\": \"water\",\n",
    "        \"calories\": 0,\n",
    "        \"number_consumed\": 5\n",
    "    },\n",
    "    {\n",
    "        \"type\": \"orange juice\",\n",
    "        \"calories\": 220,\n",
    "        \"number_consumed\": 3\n",
    "    },\n",
    "    {\n",
    "        \"type\": \"gatorade\",\n",
    "        \"calories\": 140,\n",
    "        \"number_consumed\": 1\n",
    "    }\n",
    "]"
   ]
  },
  {
   "cell_type": "markdown",
   "id": "improving-router",
   "metadata": {},
   "source": []
  },
  {
   "cell_type": "code",
   "execution_count": 23,
   "id": "intelligent-simon",
   "metadata": {},
   "outputs": [],
   "source": [
    "drinks.sort(key=lambda x: x[\"calories\"], reverse=True)"
   ]
  },
  {
   "cell_type": "code",
   "execution_count": 24,
   "id": "indian-reggae",
   "metadata": {},
   "outputs": [
    {
     "data": {
      "text/plain": [
       "[{'type': 'orange juice', 'calories': 220, 'number_consumed': 3},\n",
       " {'type': 'gatorade', 'calories': 140, 'number_consumed': 1},\n",
       " {'type': 'water', 'calories': 0, 'number_consumed': 5}]"
      ]
     },
     "execution_count": 24,
     "metadata": {},
     "output_type": "execute_result"
    }
   ],
   "source": [
    "drinks"
   ]
  },
  {
   "cell_type": "code",
   "execution_count": 25,
   "id": "continuing-saudi",
   "metadata": {},
   "outputs": [
    {
     "data": {
      "text/plain": [
       "[{'type': 'water', 'calories': 0, 'number_consumed': 5},\n",
       " {'type': 'gatorade', 'calories': 140, 'number_consumed': 1},\n",
       " {'type': 'orange juice', 'calories': 220, 'number_consumed': 3}]"
      ]
     },
     "execution_count": 25,
     "metadata": {},
     "output_type": "execute_result"
    }
   ],
   "source": [
    "drinks.reverse()\n",
    "drinks"
   ]
  },
  {
   "cell_type": "code",
   "execution_count": 26,
   "id": "civil-seeker",
   "metadata": {},
   "outputs": [],
   "source": [
    "# Functions are first class citizens in Python\n",
    "# In English, that means we can treat function definitions like variables\n",
    "# Variables as input arguments to functions...\n",
    "# That's what's happening when we set a key=lambda \n",
    "# That's what's happening when we set a key=list_var.sort\\"
   ]
  },
  {
   "cell_type": "code",
   "execution_count": 33,
   "id": "former-suite",
   "metadata": {},
   "outputs": [],
   "source": [
    "def add(a, b):\n",
    "    return a + b\n",
    "\n",
    "def multiply(a, b):\n",
    "    return a * b\n",
    "\n",
    "def subtract(a, b):\n",
    "    return a - b\n",
    "\n",
    "def divide(a, b):\n",
    "    return a / b"
   ]
  },
  {
   "cell_type": "code",
   "execution_count": 34,
   "id": "better-resource",
   "metadata": {},
   "outputs": [],
   "source": [
    "def do_math(operator, x, y):\n",
    "    return operator(x, y)"
   ]
  },
  {
   "cell_type": "code",
   "execution_count": 31,
   "id": "valuable-bride",
   "metadata": {},
   "outputs": [
    {
     "data": {
      "text/plain": [
       "5"
      ]
     },
     "execution_count": 31,
     "metadata": {},
     "output_type": "execute_result"
    }
   ],
   "source": [
    "# Functions can be used as variables, if appropriate or designed that way\n",
    "do_math(add, 2, 3)"
   ]
  },
  {
   "cell_type": "code",
   "execution_count": 32,
   "id": "processed-apache",
   "metadata": {},
   "outputs": [
    {
     "data": {
      "text/plain": [
       "30"
      ]
     },
     "execution_count": 32,
     "metadata": {},
     "output_type": "execute_result"
    }
   ],
   "source": [
    "# do_math is a function that applies a function provided to 23 numbers\n",
    "do_math(multiply, 3, 10)"
   ]
  },
  {
   "cell_type": "code",
   "execution_count": 36,
   "id": "international-bulgarian",
   "metadata": {},
   "outputs": [
    {
     "data": {
      "text/plain": [
       "50"
      ]
     },
     "execution_count": 36,
     "metadata": {},
     "output_type": "execute_result"
    }
   ],
   "source": [
    "do_math(subtract, 100, 50)"
   ]
  },
  {
   "cell_type": "code",
   "execution_count": null,
   "id": "floppy-legislature",
   "metadata": {},
   "outputs": [],
   "source": [
    "max(staff, key=staff.count)"
   ]
  },
  {
   "cell_type": "code",
   "execution_count": 39,
   "id": "operational-television",
   "metadata": {},
   "outputs": [],
   "source": [
    "power = lambda base, exponent: base ** exponent"
   ]
  },
  {
   "cell_type": "code",
   "execution_count": 40,
   "id": "ready-plant",
   "metadata": {},
   "outputs": [
    {
     "data": {
      "text/plain": [
       "<function __main__.add(a, b)>"
      ]
     },
     "execution_count": 40,
     "metadata": {},
     "output_type": "execute_result"
    }
   ],
   "source": [
    "add"
   ]
  },
  {
   "cell_type": "code",
   "execution_count": 41,
   "id": "equipped-robert",
   "metadata": {},
   "outputs": [
    {
     "data": {
      "text/plain": [
       "<function __main__.subtract(a, b)>"
      ]
     },
     "execution_count": 41,
     "metadata": {},
     "output_type": "execute_result"
    }
   ],
   "source": [
    "subtract"
   ]
  },
  {
   "cell_type": "code",
   "execution_count": 42,
   "id": "paperback-efficiency",
   "metadata": {},
   "outputs": [
    {
     "data": {
      "text/plain": [
       "<function __main__.<lambda>(base, exponent)>"
      ]
     },
     "execution_count": 42,
     "metadata": {},
     "output_type": "execute_result"
    }
   ],
   "source": [
    "power"
   ]
  },
  {
   "cell_type": "code",
   "execution_count": 43,
   "id": "novel-rugby",
   "metadata": {},
   "outputs": [
    {
     "data": {
      "text/plain": [
       "8"
      ]
     },
     "execution_count": 43,
     "metadata": {},
     "output_type": "execute_result"
    }
   ],
   "source": [
    "do_math(power, 2, 3)"
   ]
  },
  {
   "cell_type": "code",
   "execution_count": 44,
   "id": "instant-franchise",
   "metadata": {},
   "outputs": [],
   "source": [
    "def increment(x):\n",
    "    return x + 1"
   ]
  },
  {
   "cell_type": "code",
   "execution_count": 45,
   "id": "desirable-works",
   "metadata": {},
   "outputs": [
    {
     "data": {
      "text/plain": [
       "8"
      ]
     },
     "execution_count": 45,
     "metadata": {},
     "output_type": "execute_result"
    }
   ],
   "source": [
    "# Input args: function, number, number\n",
    "do_math(power, increment(1), 3)"
   ]
  },
  {
   "cell_type": "code",
   "execution_count": 46,
   "id": "proved-remains",
   "metadata": {},
   "outputs": [
    {
     "data": {
      "text/plain": [
       "31"
      ]
     },
     "execution_count": 46,
     "metadata": {},
     "output_type": "execute_result"
    }
   ],
   "source": [
    "# We can define lambdas in-line like this:\n",
    "do_math(lambda a, b: a * b + b - a**2, 3, 10)"
   ]
  },
  {
   "cell_type": "code",
   "execution_count": 47,
   "id": "sustainable-synthetic",
   "metadata": {},
   "outputs": [],
   "source": [
    "import pandas as pd"
   ]
  },
  {
   "cell_type": "code",
   "execution_count": 48,
   "id": "neutral-interview",
   "metadata": {},
   "outputs": [],
   "source": [
    "x = pd.Series([1, 2, 3, 4, 5])"
   ]
  },
  {
   "cell_type": "code",
   "execution_count": 49,
   "id": "awful-blend",
   "metadata": {},
   "outputs": [
    {
     "data": {
      "text/plain": [
       "0    1\n",
       "1    2\n",
       "2    3\n",
       "3    4\n",
       "4    5\n",
       "dtype: int64"
      ]
     },
     "execution_count": 49,
     "metadata": {},
     "output_type": "execute_result"
    }
   ],
   "source": [
    "x"
   ]
  },
  {
   "cell_type": "code",
   "execution_count": 51,
   "id": "dietary-briefs",
   "metadata": {},
   "outputs": [
    {
     "data": {
      "text/plain": [
       "0    2\n",
       "1    3\n",
       "2    4\n",
       "3    5\n",
       "4    6\n",
       "dtype: int64"
      ]
     },
     "execution_count": 51,
     "metadata": {},
     "output_type": "execute_result"
    }
   ],
   "source": [
    "# .apply applies the function provided to the entire column\n",
    "x.apply(lambda x: x + 1)"
   ]
  },
  {
   "cell_type": "code",
   "execution_count": 54,
   "id": "boring-miller",
   "metadata": {},
   "outputs": [
    {
     "data": {
      "text/plain": [
       "0    2\n",
       "1    3\n",
       "2    4\n",
       "3    5\n",
       "4    6\n",
       "dtype: int64"
      ]
     },
     "execution_count": 54,
     "metadata": {},
     "output_type": "execute_result"
    }
   ],
   "source": [
    "x.apply(increment)"
   ]
  },
  {
   "cell_type": "code",
   "execution_count": 55,
   "id": "acoustic-asthma",
   "metadata": {},
   "outputs": [
    {
     "data": {
      "text/plain": [
       "0    -5\n",
       "1    -1\n",
       "2     5\n",
       "3    13\n",
       "4    23\n",
       "dtype: int64"
      ]
     },
     "execution_count": 55,
     "metadata": {},
     "output_type": "execute_result"
    }
   ],
   "source": [
    "x.apply(lambda x: x**2 + x - 7)"
   ]
  },
  {
   "cell_type": "code",
   "execution_count": 53,
   "id": "valuable-baseball",
   "metadata": {},
   "outputs": [
    {
     "data": {
      "text/plain": [
       "'🔮'"
      ]
     },
     "execution_count": 53,
     "metadata": {},
     "output_type": "execute_result"
    }
   ],
   "source": [
    "\"🔮\""
   ]
  },
  {
   "cell_type": "code",
   "execution_count": null,
   "id": "plastic-object",
   "metadata": {},
   "outputs": [],
   "source": []
  }
 ],
 "metadata": {
  "kernelspec": {
   "display_name": "Python 3",
   "language": "python",
   "name": "python3"
  },
  "language_info": {
   "codemirror_mode": {
    "name": "ipython",
    "version": 3
   },
   "file_extension": ".py",
   "mimetype": "text/x-python",
   "name": "python",
   "nbconvert_exporter": "python",
   "pygments_lexer": "ipython3",
   "version": "3.7.3"
  }
 },
 "nbformat": 4,
 "nbformat_minor": 5
}
