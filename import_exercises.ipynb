{
 "cells": [
  {
   "cell_type": "markdown",
   "metadata": {},
   "source": [
    "### Exercise 1\n",
    "- Run an interactive python session and import the module. Call the is_vowel function using the . syntax.\n",
    "- Create a file named `import_exericses.py`. Within this file, use from to import the calculate_tip function directly. Call this function with values you choose and print the result.\n",
    "- Create a jupyter notebook named `import_exercises.ipynb`. Use from to import the get_letter_grade function and give it an alias. Test this function in your notebook."
   ]
  },
  {
   "cell_type": "markdown",
   "metadata": {},
   "source": [
    "### Exercise 2\n",
    "- How many different ways can you combine the letters from \"abc\" with the numbers 1, 2, and 3?\n",
    "- How many different combinations are there of 2 letters from \"abcd\"?\n",
    "- How many different permutations are there of 2 letters from \"abcd\"?"
   ]
  },
  {
   "cell_type": "code",
   "execution_count": 3,
   "metadata": {},
   "outputs": [
    {
     "data": {
      "text/plain": [
       "range(0, 20000098767890)"
      ]
     },
     "execution_count": 3,
     "metadata": {},
     "output_type": "execute_result"
    }
   ],
   "source": [
    "range(20000098767890)"
   ]
  },
  {
   "cell_type": "code",
   "execution_count": 1,
   "metadata": {},
   "outputs": [],
   "source": [
    "import itertools"
   ]
  },
  {
   "cell_type": "code",
   "execution_count": 5,
   "metadata": {},
   "outputs": [
    {
     "data": {
      "text/plain": [
       "[('a', 1),\n",
       " ('a', 2),\n",
       " ('a', 3),\n",
       " ('b', 1),\n",
       " ('b', 2),\n",
       " ('b', 3),\n",
       " ('c', 1),\n",
       " ('c', 2),\n",
       " ('c', 3)]"
      ]
     },
     "execution_count": 5,
     "metadata": {},
     "output_type": "execute_result"
    }
   ],
   "source": [
    "list(itertools.product(\"abc\", [1, 2, 3]))"
   ]
  },
  {
   "cell_type": "code",
   "execution_count": 6,
   "metadata": {},
   "outputs": [
    {
     "name": "stdout",
     "output_type": "stream",
     "text": [
      "[('a', 1), ('a', 2), ('a', 3), ('b', 1), ('b', 2), ('b', 3), ('c', 1), ('c', 2), ('c', 3)]\n"
     ]
    },
    {
     "data": {
      "text/plain": [
       "9"
      ]
     },
     "execution_count": 6,
     "metadata": {},
     "output_type": "execute_result"
    }
   ],
   "source": [
    "# How many different ways can you combine the letters from \"abc\" with the numbers 1, 2, and 3?\n",
    "print(list(itertools.product(\"abc\", [1, 2, 3])))\n",
    "\n",
    "len(list(itertools.product(\"abc\", [1, 2, 3])))"
   ]
  },
  {
   "cell_type": "code",
   "execution_count": 9,
   "metadata": {},
   "outputs": [],
   "source": [
    "data = [\"a\", \"b\", \"c\", 1, 2, 3]"
   ]
  },
  {
   "cell_type": "code",
   "execution_count": 13,
   "metadata": {},
   "outputs": [
    {
     "data": {
      "text/plain": [
       "6"
      ]
     },
     "execution_count": 13,
     "metadata": {},
     "output_type": "execute_result"
    }
   ],
   "source": [
    "# How many different combinations are there of 2 letters from \"abcd\"?\n",
    "# Combinations don't care about the order of items (That's why combination locks should be renamed)\n",
    "len(list(itertools.combinations(\"abcd\", 2)))"
   ]
  },
  {
   "cell_type": "code",
   "execution_count": 17,
   "metadata": {},
   "outputs": [
    {
     "data": {
      "text/plain": [
       "12"
      ]
     },
     "execution_count": 17,
     "metadata": {},
     "output_type": "execute_result"
    }
   ],
   "source": [
    "# How many different permutations are there of 2 letters from \"abcd\"?\n",
    "# Order matters for permutations\n",
    "len(list(itertools.permutations(\"abcd\", 2)))"
   ]
  },
  {
   "cell_type": "markdown",
   "metadata": {},
   "source": [
    "### Exercise 3\n",
    "\n",
    "This is a tiny lil' DS pipeline:\n",
    "- Plan\n",
    "- Acquire the data\n",
    "- Prep the data\n",
    "- Explore the data to get to know it and answer questions about it!\n",
    "\n",
    "Read in the json file and answer:\n",
    "- Total number of users\n",
    "- Number of active users\n",
    "- Number of inactive users\n",
    "- Grand total of balances for all users\n",
    "- Average balance per user\n",
    "- User with the lowest balance\n",
    "- User with the highest balance\n",
    "- Most common favorite fruit\n",
    "- Least most common favorite fruit\n",
    "- Total number of unread messages for all users"
   ]
  },
  {
   "cell_type": "code",
   "execution_count": 18,
   "metadata": {},
   "outputs": [],
   "source": [
    "import json"
   ]
  },
  {
   "cell_type": "code",
   "execution_count": 19,
   "metadata": {},
   "outputs": [],
   "source": [
    "filename = \"profiles.json\"\n",
    "profiles = json.load(open(filename))"
   ]
  },
  {
   "cell_type": "code",
   "execution_count": 34,
   "metadata": {},
   "outputs": [
    {
     "data": {
      "text/plain": [
       "list"
      ]
     },
     "execution_count": 34,
     "metadata": {},
     "output_type": "execute_result"
    }
   ],
   "source": [
    "profiles"
   ]
  },
  {
   "cell_type": "code",
   "execution_count": 21,
   "metadata": {},
   "outputs": [
    {
     "data": {
      "text/plain": [
       "list"
      ]
     },
     "execution_count": 21,
     "metadata": {},
     "output_type": "execute_result"
    }
   ],
   "source": [
    "# Looks like a list of dictionaries!\n",
    "type(profiles)"
   ]
  },
  {
   "cell_type": "code",
   "execution_count": 22,
   "metadata": {},
   "outputs": [
    {
     "data": {
      "text/plain": [
       "{'_id': '54e23c3e46ab53a440b580e8',\n",
       " 'index': 0,\n",
       " 'guid': '9962b468-ef3e-4993-b677-617469bc3008',\n",
       " 'isActive': False,\n",
       " 'balance': '$2,097.02',\n",
       " 'picture': 'http://placehold.it/32x32',\n",
       " 'age': 39,\n",
       " 'eyeColor': 'blue',\n",
       " 'name': 'Hebert Estes',\n",
       " 'gender': 'male',\n",
       " 'company': 'ANDRYX',\n",
       " 'email': 'hebertestes@andryx.com',\n",
       " 'phone': '+1 (866) 456-2268',\n",
       " 'address': '121 Emmons Avenue, Klondike, Kentucky, 5975',\n",
       " 'about': 'Sit cillum deserunt irure laboris tempor fugiat laboris. Amet commodo amet est incididunt. Dolore qui fugiat cillum pariatur dolore excepteur elit ipsum.\\r\\n',\n",
       " 'registered': '2014-11-10T01:44:03 +06:00',\n",
       " 'latitude': -80.157843,\n",
       " 'longitude': 161.93016,\n",
       " 'tags': ['sit', 'occaecat', 'non', 'ea', 'sit', 'laboris', 'exercitation'],\n",
       " 'friends': [{'id': 0, 'name': 'Tanisha Leonard'},\n",
       "  {'id': 1, 'name': 'Dennis Wilson'},\n",
       "  {'id': 2, 'name': 'Lupe Howe'}],\n",
       " 'greeting': 'Hello, Hebert Estes! You have 4 unread messages.',\n",
       " 'favoriteFruit': 'strawberry'}"
      ]
     },
     "execution_count": 22,
     "metadata": {},
     "output_type": "execute_result"
    }
   ],
   "source": [
    "# What does the first profile look like?\n",
    "profile = profiles[0]\n",
    "profile"
   ]
  },
  {
   "cell_type": "code",
   "execution_count": 23,
   "metadata": {},
   "outputs": [
    {
     "data": {
      "text/plain": [
       "{'_id': '54e23c3ed945981ba2580614',\n",
       " 'index': 18,\n",
       " 'guid': 'e608dc5c-fee4-4086-971b-3ebd37bfa137',\n",
       " 'isActive': True,\n",
       " 'balance': '$2,227.79',\n",
       " 'picture': 'http://placehold.it/32x32',\n",
       " 'age': 22,\n",
       " 'eyeColor': 'brown',\n",
       " 'name': 'Ewing Larson',\n",
       " 'gender': 'male',\n",
       " 'company': 'ESCENTA',\n",
       " 'email': 'ewinglarson@escenta.com',\n",
       " 'phone': '+1 (943) 439-3760',\n",
       " 'address': '136 Beard Street, Wattsville, New Hampshire, 2803',\n",
       " 'about': 'Veniam eiusmod exercitation culpa mollit reprehenderit ullamco voluptate voluptate irure qui duis anim et. Laborum dolor quis do voluptate. In pariatur dolor id mollit et enim. Qui ex qui in cillum irure enim non reprehenderit irure et excepteur aliquip eu eu.\\r\\n',\n",
       " 'registered': '2014-07-21T19:17:41 +05:00',\n",
       " 'latitude': 15.903555,\n",
       " 'longitude': -159.721203,\n",
       " 'tags': ['Lorem',\n",
       "  'magna',\n",
       "  'dolor',\n",
       "  'aliquip',\n",
       "  'reprehenderit',\n",
       "  'eu',\n",
       "  'voluptate'],\n",
       " 'friends': [{'id': 0, 'name': 'Suzette Huffman'},\n",
       "  {'id': 1, 'name': 'Paige Santiago'},\n",
       "  {'id': 2, 'name': 'Dollie Fernandez'}],\n",
       " 'greeting': 'Hello, Ewing Larson! You have 16 unread messages.',\n",
       " 'favoriteFruit': 'strawberry'}"
      ]
     },
     "execution_count": 23,
     "metadata": {},
     "output_type": "execute_result"
    }
   ],
   "source": [
    "# What does the last profile look like?\n",
    "profiles[-1]"
   ]
  },
  {
   "cell_type": "markdown",
   "metadata": {},
   "source": [
    "### What do we notice already? What are our takeaways?\n",
    "- The `balance` values are strings and we need to remove commas, dollar signs, and convert those into floats\n",
    "- We'll need to \"clean\" this data before we can use it"
   ]
  },
  {
   "cell_type": "code",
   "execution_count": 24,
   "metadata": {},
   "outputs": [
    {
     "name": "stdout",
     "output_type": "stream",
     "text": [
      "1,234.56\n",
      "1234.56\n",
      "<class 'str'>\n",
      "<class 'float'>\n"
     ]
    },
    {
     "data": {
      "text/plain": [
       "1234.56"
      ]
     },
     "execution_count": 24,
     "metadata": {},
     "output_type": "execute_result"
    }
   ],
   "source": [
    "## Data Cleaning 101\n",
    "# How would we clean one string?\n",
    "balance = \"$1,234.56\"\n",
    "balance = balance.replace(\"$\", \"\") # Replacing character with \"\" empty string is how to remove them\n",
    "print(balance)\n",
    "balance = balance.replace(\",\", \"\")\n",
    "print(balance)\n",
    "print(type(balance))\n",
    "balance = float(balance)\n",
    "print(type(balance))\n",
    "balance"
   ]
  },
  {
   "cell_type": "code",
   "execution_count": 27,
   "metadata": {},
   "outputs": [],
   "source": [
    "# The above sequence of steps would make a great function!\n",
    "def handle_balance(balance):\n",
    "    balance = balance.replace(\"$\", \"\")\n",
    "    balance = balance.replace(\",\", \"\")a\n",
    "    return float(balance)\n",
    "\n",
    "# Automated Unit Tests to prove that this function works (Quality Assurance)\n",
    "assert handle_balance(\"$1,234.56\") == 1234.56\n",
    "assert handle_balance(\"$1,234,567.89\") == 1234567.89"
   ]
  },
  {
   "cell_type": "code",
   "execution_count": 28,
   "metadata": {},
   "outputs": [],
   "source": [
    "# Lets clean all the balance values now and reassign the profiles variable\n",
    "for profile in profiles:\n",
    "    # Since we're assigning a dictionary key/value in place, we don't need a new list\n",
    "    # We're assigning the balance variable to hold the return value\n",
    "    profile[\"balance\"] = handle_balance(profile[\"balance\"])\n",
    "    "
   ]
  },
  {
   "cell_type": "code",
   "execution_count": 31,
   "metadata": {},
   "outputs": [
    {
     "data": {
      "text/plain": [
       "2097.02"
      ]
     },
     "execution_count": 31,
     "metadata": {},
     "output_type": "execute_result"
    }
   ],
   "source": [
    "profiles[0][\"balance\"]"
   ]
  },
  {
   "cell_type": "code",
   "execution_count": 35,
   "metadata": {},
   "outputs": [
    {
     "data": {
      "text/plain": [
       "19"
      ]
     },
     "execution_count": 35,
     "metadata": {},
     "output_type": "execute_result"
    }
   ],
   "source": [
    "# Total number of users?\n",
    "number_of_profiles = len(profiles)\n",
    "number_of_profiles"
   ]
  },
  {
   "cell_type": "code",
   "execution_count": 36,
   "metadata": {},
   "outputs": [
    {
     "data": {
      "text/plain": [
       "9"
      ]
     },
     "execution_count": 36,
     "metadata": {},
     "output_type": "execute_result"
    }
   ],
   "source": [
    "# number of active users\n",
    "only_active_users = [profile for profile in profiles if profile[\"isActive\"]]\n",
    "active_user_count = len(only_active_users)\n",
    "active_user_count"
   ]
  },
  {
   "cell_type": "code",
   "execution_count": 37,
   "metadata": {},
   "outputs": [
    {
     "data": {
      "text/plain": [
       "10"
      ]
     },
     "execution_count": 37,
     "metadata": {},
     "output_type": "execute_result"
    }
   ],
   "source": [
    "# number of inactive users\n",
    "# inactive_user_count = len([profile for profile in profiles if profile[\"isActive\"] == False])\n",
    "inactive_user_count = len([profile for profile in profiles if not profile[\"isActive\"]])\n",
    "inactive_user_count"
   ]
  },
  {
   "cell_type": "code",
   "execution_count": 39,
   "metadata": {},
   "outputs": [
    {
     "data": {
      "text/plain": [
       "52667.02"
      ]
     },
     "execution_count": 39,
     "metadata": {},
     "output_type": "execute_result"
    }
   ],
   "source": [
    "# Grand total of balances for all users\n",
    "# Create an accumulator variable\n",
    "total_balance = 0 \n",
    "\n",
    "for profile in profiles:\n",
    "    # total_balance = total_balance + profile[\"balance\"]\n",
    "    # new_value = old_value + something\n",
    "    total_balance += profile[\"balance\"]\n",
    "\n",
    "total_balance"
   ]
  },
  {
   "cell_type": "code",
   "execution_count": 40,
   "metadata": {},
   "outputs": [
    {
     "data": {
      "text/plain": [
       "2771.95"
      ]
     },
     "execution_count": 40,
     "metadata": {},
     "output_type": "execute_result"
    }
   ],
   "source": [
    "# Average balance per user\n",
    "avg_balance = round(total_balance / number_of_profiles, 2)\n",
    "avg_balance"
   ]
  },
  {
   "cell_type": "code",
   "execution_count": 41,
   "metadata": {},
   "outputs": [
    {
     "data": {
      "text/plain": [
       "-33"
      ]
     },
     "execution_count": 41,
     "metadata": {},
     "output_type": "execute_result"
    }
   ],
   "source": [
    "min([1, 2, 3, -33])"
   ]
  },
  {
   "cell_type": "code",
   "execution_count": 52,
   "metadata": {},
   "outputs": [
    {
     "name": "stdout",
     "output_type": "stream",
     "text": [
      "<class 'dict'>\n"
     ]
    },
    {
     "data": {
      "text/plain": [
       "{'_id': '54e23c3e0fd8074c2ca52667',\n",
       " 'index': 6,\n",
       " 'guid': 'af8d9a03-fde9-4039-b20c-c4708d4cfc3c',\n",
       " 'isActive': False,\n",
       " 'balance': 1214.1,\n",
       " 'picture': 'http://placehold.it/32x32',\n",
       " 'age': 35,\n",
       " 'eyeColor': 'green',\n",
       " 'name': 'Avery Flynn',\n",
       " 'gender': 'male',\n",
       " 'company': 'TERSANKI',\n",
       " 'email': 'averyflynn@tersanki.com',\n",
       " 'phone': '+1 (966) 404-2471',\n",
       " 'address': '569 Oakland Place, Beyerville, Puerto Rico, 2395',\n",
       " 'about': 'Minim consequat anim ad et tempor et pariatur cillum ut. Ea Lorem consectetur sunt aliquip ea minim minim id dolore incididunt qui magna. Magna velit labore dolore voluptate ut aliquip esse qui est ipsum cupidatat duis enim. Sunt esse eiusmod cupidatat duis quis sunt anim dolore adipisicing enim dolore aliqua mollit. Commodo sit ad eiusmod reprehenderit.\\r\\n',\n",
       " 'registered': '2014-04-13T10:25:03 +05:00',\n",
       " 'latitude': -89.879409,\n",
       " 'longitude': 143.441709,\n",
       " 'tags': ['quis', 'esse', 'Lorem', 'minim', 'nostrud', 'voluptate', 'laborum'],\n",
       " 'friends': [{'id': 0, 'name': 'Ball Henson'},\n",
       "  {'id': 1, 'name': 'Dalton Mccoy'},\n",
       "  {'id': 2, 'name': 'Carolina Sharp'}],\n",
       " 'greeting': 'Hello, Avery Flynn! You have 13 unread messages.',\n",
       " 'favoriteFruit': 'banana'}"
      ]
     },
     "execution_count": 52,
     "metadata": {},
     "output_type": "execute_result"
    }
   ],
   "source": [
    "# User with the lowest balance\n",
    "# We could use min with a lambda here\n",
    "user_with_lowest_balance = min(profiles, key=lambda x: x[\"balance\"])\n",
    "print(type(user_with_lowest_balance))\n",
    "user_with_lowest_balance"
   ]
  },
  {
   "cell_type": "code",
   "execution_count": 53,
   "metadata": {},
   "outputs": [
    {
     "data": {
      "text/plain": [
       "{'_id': '54e23c3e54e4094147a3b1da',\n",
       " 'index': 3,\n",
       " 'guid': '69eb3454-8acc-46f1-a636-c6df00dfb542',\n",
       " 'isActive': False,\n",
       " 'balance': 3919.64,\n",
       " 'picture': 'http://placehold.it/32x32',\n",
       " 'age': 20,\n",
       " 'eyeColor': 'green',\n",
       " 'name': 'Fay Hammond',\n",
       " 'gender': 'female',\n",
       " 'company': 'INRT',\n",
       " 'email': 'fayhammond@inrt.com',\n",
       " 'phone': '+1 (922) 429-2592',\n",
       " 'address': '518 Randolph Street, Whitestone, Arizona, 8189',\n",
       " 'about': 'Aliqua sunt exercitation quis cupidatat fugiat nulla laboris occaecat ut reprehenderit qui incididunt. Amet excepteur qui amet mollit sint enim velit est dolor eu. Velit labore ea aute ipsum consequat culpa cupidatat excepteur aliqua. Sit commodo id est deserunt commodo. Labore sit deserunt enim in dolore incididunt. Officia qui est veniam cillum consequat minim duis Lorem esse magna culpa cupidatat cupidatat enim. Amet eiusmod elit qui reprehenderit commodo quis.\\r\\n',\n",
       " 'registered': '2015-01-30T08:05:38 +06:00',\n",
       " 'latitude': 33.825844,\n",
       " 'longitude': -65.969538,\n",
       " 'tags': ['aliqua', 'esse', 'sint', 'pariatur', 'commodo', 'do', 'anim'],\n",
       " 'friends': [{'id': 0, 'name': 'Dudley Booker'},\n",
       "  {'id': 1, 'name': 'Esmeralda Tyler'},\n",
       "  {'id': 2, 'name': 'Rosa Hampton'}],\n",
       " 'greeting': 'Hello, Fay Hammond! You have 10 unread messages.',\n",
       " 'favoriteFruit': 'banana'}"
      ]
     },
     "execution_count": 53,
     "metadata": {},
     "output_type": "execute_result"
    }
   ],
   "source": [
    "# User with the highest balance\n",
    "# Hey Python, sort the list of dictionaries by the key called \"balance\", then get the highest balance\n",
    "max(profiles, key=lambda x: x[\"balance\"])"
   ]
  },
  {
   "cell_type": "code",
   "execution_count": 55,
   "metadata": {},
   "outputs": [
    {
     "data": {
      "text/plain": [
       "{'_id': '54e23c3eedcc65f0ec3a5496',\n",
       " 'index': 12,\n",
       " 'guid': '759a21c4-5f9c-4189-9c50-c9d8a9f31037',\n",
       " 'isActive': False,\n",
       " 'balance': 3844.42,\n",
       " 'picture': 'http://placehold.it/32x32',\n",
       " 'age': 40,\n",
       " 'eyeColor': 'brown',\n",
       " 'name': 'Chan Hurley',\n",
       " 'gender': 'male',\n",
       " 'company': 'ZEAM',\n",
       " 'email': 'chanhurley@zeam.com',\n",
       " 'phone': '+1 (917) 475-3705',\n",
       " 'address': '915 Channel Avenue, Clinton, North Dakota, 6244',\n",
       " 'about': 'Voluptate exercitation ut anim ex adipisicing ut do officia incididunt fugiat cupidatat aliqua. Cillum ullamco irure dolore est consectetur non consequat. Nulla ullamco eu irure qui dolor magna ipsum id in enim voluptate aute. Officia aliqua dolore ut reprehenderit Lorem cillum. Cillum reprehenderit eu cillum aliqua sint eiusmod cupidatat culpa elit in. Fugiat voluptate reprehenderit amet anim qui nisi velit aliqua proident anim.\\r\\n',\n",
       " 'registered': '2014-03-01T14:51:23 +06:00',\n",
       " 'latitude': 85.901051,\n",
       " 'longitude': -74.986179,\n",
       " 'tags': ['minim', 'veniam', 'sit', 'aute', 'irure', 'non', 'eiusmod'],\n",
       " 'friends': [{'id': 0, 'name': 'Reese Grant'},\n",
       "  {'id': 1, 'name': 'Jenna Kinney'},\n",
       "  {'id': 2, 'name': 'Rhea May'}],\n",
       " 'greeting': 'Hello, Chan Hurley! You have 7 unread messages.',\n",
       " 'favoriteFruit': 'apple'}"
      ]
     },
     "execution_count": 55,
     "metadata": {},
     "output_type": "execute_result"
    }
   ],
   "source": [
    "# Find the user with the highest north latitude\n",
    "max(profiles, key=lambda x: x[\"latitude\"])"
   ]
  },
  {
   "cell_type": "code",
   "execution_count": 54,
   "metadata": {},
   "outputs": [
    {
     "data": {
      "text/plain": [
       "{'_id': '54e23c3eedcc65f0ec3a5496',\n",
       " 'index': 12,\n",
       " 'guid': '759a21c4-5f9c-4189-9c50-c9d8a9f31037',\n",
       " 'isActive': False,\n",
       " 'balance': 3844.42,\n",
       " 'picture': 'http://placehold.it/32x32',\n",
       " 'age': 40,\n",
       " 'eyeColor': 'brown',\n",
       " 'name': 'Chan Hurley',\n",
       " 'gender': 'male',\n",
       " 'company': 'ZEAM',\n",
       " 'email': 'chanhurley@zeam.com',\n",
       " 'phone': '+1 (917) 475-3705',\n",
       " 'address': '915 Channel Avenue, Clinton, North Dakota, 6244',\n",
       " 'about': 'Voluptate exercitation ut anim ex adipisicing ut do officia incididunt fugiat cupidatat aliqua. Cillum ullamco irure dolore est consectetur non consequat. Nulla ullamco eu irure qui dolor magna ipsum id in enim voluptate aute. Officia aliqua dolore ut reprehenderit Lorem cillum. Cillum reprehenderit eu cillum aliqua sint eiusmod cupidatat culpa elit in. Fugiat voluptate reprehenderit amet anim qui nisi velit aliqua proident anim.\\r\\n',\n",
       " 'registered': '2014-03-01T14:51:23 +06:00',\n",
       " 'latitude': 85.901051,\n",
       " 'longitude': -74.986179,\n",
       " 'tags': ['minim', 'veniam', 'sit', 'aute', 'irure', 'non', 'eiusmod'],\n",
       " 'friends': [{'id': 0, 'name': 'Reese Grant'},\n",
       "  {'id': 1, 'name': 'Jenna Kinney'},\n",
       "  {'id': 2, 'name': 'Rhea May'}],\n",
       " 'greeting': 'Hello, Chan Hurley! You have 7 unread messages.',\n",
       " 'favoriteFruit': 'apple'}"
      ]
     },
     "execution_count": 54,
     "metadata": {},
     "output_type": "execute_result"
    }
   ],
   "source": [
    "# Oldest person in this data set\n",
    "max(profiles, key=lambda x: x[\"age\"])"
   ]
  },
  {
   "cell_type": "code",
   "execution_count": 68,
   "metadata": {},
   "outputs": [
    {
     "data": {
      "text/plain": [
       "['strawberry',\n",
       " 'apple',\n",
       " 'banana',\n",
       " 'banana',\n",
       " 'apple',\n",
       " 'apple',\n",
       " 'banana',\n",
       " 'strawberry',\n",
       " 'strawberry',\n",
       " 'banana',\n",
       " 'strawberry',\n",
       " 'strawberry',\n",
       " 'apple',\n",
       " 'strawberry',\n",
       " 'strawberry',\n",
       " 'banana',\n",
       " 'strawberry',\n",
       " 'banana',\n",
       " 'strawberry']"
      ]
     },
     "execution_count": 68,
     "metadata": {},
     "output_type": "execute_result"
    }
   ],
   "source": [
    "# Most common favorite fruit\n",
    "# One way would be to cook down our list of dictionaries into a list of fruits\n",
    "fruits = []\n",
    "for profile in profiles:\n",
    "    fruits.append(profile[\"favoriteFruit\"])\n",
    "fruits"
   ]
  },
  {
   "cell_type": "code",
   "execution_count": 58,
   "metadata": {},
   "outputs": [
    {
     "data": {
      "text/plain": [
       "'strawberry'"
      ]
     },
     "execution_count": 58,
     "metadata": {},
     "output_type": "execute_result"
    }
   ],
   "source": [
    "# We can use list_variable.count as the key here because .count is a function's body\n",
    "max(fruits, key=fruits.count)"
   ]
  },
  {
   "cell_type": "code",
   "execution_count": 59,
   "metadata": {},
   "outputs": [
    {
     "name": "stdout",
     "output_type": "stream",
     "text": [
      "Counter({'strawberry': 9, 'banana': 6, 'apple': 4})\n"
     ]
    },
    {
     "data": {
      "text/plain": [
       "[('strawberry', 9)]"
      ]
     },
     "execution_count": 59,
     "metadata": {},
     "output_type": "execute_result"
    }
   ],
   "source": [
    "from collections import Counter\n",
    "print(Counter(fruits))\n",
    "\n",
    "Counter(fruits).most_common(1)"
   ]
  },
  {
   "cell_type": "code",
   "execution_count": 60,
   "metadata": {},
   "outputs": [
    {
     "data": {
      "text/plain": [
       "strawberry    9\n",
       "banana        6\n",
       "apple         4\n",
       "dtype: int64"
      ]
     },
     "execution_count": 60,
     "metadata": {},
     "output_type": "execute_result"
    }
   ],
   "source": [
    "# Another import approach\n",
    "import pandas as pd\n",
    "fruits = pd.Series(fruits)\n",
    "fruits.value_counts()"
   ]
  },
  {
   "cell_type": "code",
   "execution_count": 61,
   "metadata": {},
   "outputs": [
    {
     "data": {
      "text/plain": [
       "strawberry    9\n",
       "dtype: int64"
      ]
     },
     "execution_count": 61,
     "metadata": {},
     "output_type": "execute_result"
    }
   ],
   "source": [
    "fruits.value_counts().head(1)"
   ]
  },
  {
   "cell_type": "code",
   "execution_count": 69,
   "metadata": {},
   "outputs": [
    {
     "data": {
      "text/plain": [
       "'apple'"
      ]
     },
     "execution_count": 69,
     "metadata": {},
     "output_type": "execute_result"
    }
   ],
   "source": [
    "# Least common fruit\n",
    "min(fruits, key=fruits.count)"
   ]
  },
  {
   "cell_type": "code",
   "execution_count": 71,
   "metadata": {},
   "outputs": [
    {
     "data": {
      "text/plain": [
       "('apple', 4)"
      ]
     },
     "execution_count": 71,
     "metadata": {},
     "output_type": "execute_result"
    }
   ],
   "source": [
    "# Find the least common fruit\n",
    "# Counter().most_common() gives us everythign in order\n",
    "Counter(fruits).most_common()[-1]"
   ]
  },
  {
   "cell_type": "code",
   "execution_count": null,
   "metadata": {},
   "outputs": [],
   "source": [
    "profile"
   ]
  },
  {
   "cell_type": "code",
   "execution_count": 72,
   "metadata": {},
   "outputs": [
    {
     "data": {
      "text/plain": [
       "10"
      ]
     },
     "execution_count": 72,
     "metadata": {},
     "output_type": "execute_result"
    }
   ],
   "source": [
    "# Total number of unread messages for all users\n",
    "# greetings have the following format and we only need the number\n",
    "greeting = 'Hello, Fay Hammond! You have 10 unread messages.'\n",
    "\n",
    "output = \"\"\n",
    "for letter in greeting:\n",
    "    # only append numerals to the output string\n",
    "    if letter.isdigit():\n",
    "        output += letter\n",
    "\n",
    "output = int(output) # convert the string containing the numerals into an integer\n",
    "output"
   ]
  },
  {
   "cell_type": "markdown",
   "metadata": {},
   "source": [
    "### This is a great candidate for a function. Why?\n",
    "- Because it's a small, dedicated task \n",
    "- Small, tight functions allow us to start building the \"verbs\" of our program\n",
    "- We can abstract away the loop, the conditional, the details and nitty gritty implementation\n",
    "- If I know what a function is supposed to do, I don't need to worry about it's details to use it\n",
    "- I can call a function from inside of a list comprehension!"
   ]
  },
  {
   "cell_type": "code",
   "execution_count": 74,
   "metadata": {},
   "outputs": [],
   "source": [
    "def count_unread_messages(greeting):    \n",
    "    output = \"\"\n",
    "    for letter in greeting:\n",
    "        # only append numerals to the output string\n",
    "        if letter.isdigit():\n",
    "            output += letter\n",
    "\n",
    "    output = int(output)\n",
    "    return output\n",
    "\n",
    "assert count_unread_messages('Hello, Fay Hammond! You have 10 unread messages.') == 10"
   ]
  },
  {
   "cell_type": "code",
   "execution_count": 76,
   "metadata": {},
   "outputs": [
    {
     "data": {
      "text/plain": [
       "210"
      ]
     },
     "execution_count": 76,
     "metadata": {},
     "output_type": "execute_result"
    }
   ],
   "source": [
    "total_number_of_unread_messages = 0\n",
    "\n",
    "for profile in profiles:\n",
    "    count = count_unread_messages(profile[\"greeting\"])\n",
    "    total_number_of_unread_messages += count\n",
    "\n",
    "total_number_of_unread_messages"
   ]
  },
  {
   "cell_type": "code",
   "execution_count": 77,
   "metadata": {},
   "outputs": [
    {
     "data": {
      "text/plain": [
       "{'_id': '54e23c3ed945981ba2580614',\n",
       " 'index': 18,\n",
       " 'guid': 'e608dc5c-fee4-4086-971b-3ebd37bfa137',\n",
       " 'isActive': True,\n",
       " 'balance': 2227.79,\n",
       " 'picture': 'http://placehold.it/32x32',\n",
       " 'age': 22,\n",
       " 'eyeColor': 'brown',\n",
       " 'name': 'Ewing Larson',\n",
       " 'gender': 'male',\n",
       " 'company': 'ESCENTA',\n",
       " 'email': 'ewinglarson@escenta.com',\n",
       " 'phone': '+1 (943) 439-3760',\n",
       " 'address': '136 Beard Street, Wattsville, New Hampshire, 2803',\n",
       " 'about': 'Veniam eiusmod exercitation culpa mollit reprehenderit ullamco voluptate voluptate irure qui duis anim et. Laborum dolor quis do voluptate. In pariatur dolor id mollit et enim. Qui ex qui in cillum irure enim non reprehenderit irure et excepteur aliquip eu eu.\\r\\n',\n",
       " 'registered': '2014-07-21T19:17:41 +05:00',\n",
       " 'latitude': 15.903555,\n",
       " 'longitude': -159.721203,\n",
       " 'tags': ['Lorem',\n",
       "  'magna',\n",
       "  'dolor',\n",
       "  'aliquip',\n",
       "  'reprehenderit',\n",
       "  'eu',\n",
       "  'voluptate'],\n",
       " 'friends': [{'id': 0, 'name': 'Suzette Huffman'},\n",
       "  {'id': 1, 'name': 'Paige Santiago'},\n",
       "  {'id': 2, 'name': 'Dollie Fernandez'}],\n",
       " 'greeting': 'Hello, Ewing Larson! You have 16 unread messages.',\n",
       " 'favoriteFruit': 'strawberry'}"
      ]
     },
     "execution_count": 77,
     "metadata": {},
     "output_type": "execute_result"
    }
   ],
   "source": [
    "profile"
   ]
  },
  {
   "cell_type": "markdown",
   "metadata": {},
   "source": [
    "## Ways to Break Bigger Problems into Smaller Problems\n",
    "- Narrow your focus in on the actual thing you need to focus on?\n",
    "- Problem: \"Count up all the unread messages in every profile and sum them together\" 1st level\n",
    "- What's the problem behind the problem? In this case has 0 to do with dictionaries.\n",
    "- What's the real problem? Getting only numerals out of a string.\n",
    "- Avoid steps 2-20... focus on step 1\n",
    "- It looks like, in this case, we need to get at all of the numbers from each of those \"greeting\" strings\n",
    "- But that's still a multi-step problem!\n",
    "- What's the easier problem?\n",
    "- How do we get only the numerals from a string with words and numerals?\n",
    "\n",
    "### Guidance\n",
    "- Break the problem down into smaller, component parts\n",
    "- Build up solutions into larger parts\n",
    "- These meet in the middle"
   ]
  },
  {
   "cell_type": "code",
   "execution_count": 82,
   "metadata": {
    "scrolled": true
   },
   "outputs": [
    {
     "data": {
      "text/plain": [
       "16"
      ]
     },
     "execution_count": 82,
     "metadata": {},
     "output_type": "execute_result"
    }
   ],
   "source": [
    "# The problem behind the problem doesn't have anything to do with lists nor dictionaries\n",
    "# only finding and filtering out numerals from a string of other characters\n",
    "string = 'Hello, Ewing Larson! You have 16 unread messages.'\n",
    "\n",
    "# I'll need something to hold the output...\n",
    "# In my mind's eye, I know I need something to hold the output, so let's just make variable called \"output\"\n",
    "output = \"\"\n",
    "for letter in string:\n",
    "    if(letter.isdigit()): # If you have booleans (or expressions that give you booleans), you can make decisions\n",
    "        output += letter\n",
    "\n",
    "output = int(output)\n",
    "output"
   ]
  },
  {
   "cell_type": "code",
   "execution_count": 85,
   "metadata": {},
   "outputs": [
    {
     "data": {
      "text/plain": [
       "210"
      ]
     },
     "execution_count": 85,
     "metadata": {},
     "output_type": "execute_result"
    }
   ],
   "source": [
    "# What if we dont' want to make nice, clean, lil' functions\n",
    "total_unread = 0 # setup our accumulator\n",
    "for profile in profiles:\n",
    "    output = \"\"\n",
    "    for letter in profile[\"greeting\"]:\n",
    "        if(letter.isdigit()): # If you have booleans (or expressions that give you booleans), you can make decisions\n",
    "            output += letter\n",
    "    output = int(output)\n",
    "\n",
    "    total_unread += output # increase the total_unread by the count of each profile's gunread message count\n",
    "\n",
    "total_unread"
   ]
  },
  {
   "cell_type": "code",
   "execution_count": null,
   "metadata": {},
   "outputs": [],
   "source": []
  }
 ],
 "metadata": {
  "kernelspec": {
   "display_name": "Python 3",
   "language": "python",
   "name": "python3"
  },
  "language_info": {
   "codemirror_mode": {
    "name": "ipython",
    "version": 3
   },
   "file_extension": ".py",
   "mimetype": "text/x-python",
   "name": "python",
   "nbconvert_exporter": "python",
   "pygments_lexer": "ipython3",
   "version": "3.8.5"
  }
 },
 "nbformat": 4,
 "nbformat_minor": 4
}
